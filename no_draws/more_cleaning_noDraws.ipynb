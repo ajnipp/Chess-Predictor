{
 "cells": [
  {
   "cell_type": "code",
   "execution_count": 1,
   "id": "2e59c13e-cc1a-4327-ba6a-745b1b1bbc11",
   "metadata": {},
   "outputs": [],
   "source": [
    "import pandas as pd\n",
    "import json"
   ]
  },
  {
   "cell_type": "code",
   "execution_count": 2,
   "id": "804e7add-afd7-451e-b890-cf8d9869b0e9",
   "metadata": {},
   "outputs": [],
   "source": [
    "CSV_NAME = 'first_quarter_cleaned.csv'\n",
    "VOCAB_FILE = 'vocab_dict.json'"
   ]
  },
  {
   "cell_type": "code",
   "execution_count": 3,
   "id": "d002f422-2211-4089-8aad-32f68891ec46",
   "metadata": {},
   "outputs": [
    {
     "name": "stdout",
     "output_type": "stream",
     "text": [
      "True\n",
      "NVIDIA GeForce RTX 3050 Ti Laptop GPU\n"
     ]
    }
   ],
   "source": [
    "import torch\n",
    "print(torch.cuda.is_available())\n",
    "print(torch.cuda.get_device_name(0) if torch.cuda.is_available() else \"No GPU available\")"
   ]
  },
  {
   "cell_type": "code",
   "execution_count": 4,
   "id": "fdfc9b95-76ec-46f8-8f1e-837572b41d1c",
   "metadata": {},
   "outputs": [
    {
     "data": {
      "text/html": [
       "<div>\n",
       "<style scoped>\n",
       "    .dataframe tbody tr th:only-of-type {\n",
       "        vertical-align: middle;\n",
       "    }\n",
       "\n",
       "    .dataframe tbody tr th {\n",
       "        vertical-align: top;\n",
       "    }\n",
       "\n",
       "    .dataframe thead th {\n",
       "        text-align: right;\n",
       "    }\n",
       "</style>\n",
       "<table border=\"1\" class=\"dataframe\">\n",
       "  <thead>\n",
       "    <tr style=\"text-align: right;\">\n",
       "      <th></th>\n",
       "      <th>Unnamed: 0</th>\n",
       "      <th>Event</th>\n",
       "      <th>White</th>\n",
       "      <th>Black</th>\n",
       "      <th>Result</th>\n",
       "      <th>UTCDate</th>\n",
       "      <th>UTCTime</th>\n",
       "      <th>WhiteElo</th>\n",
       "      <th>BlackElo</th>\n",
       "      <th>WhiteRatingDiff</th>\n",
       "      <th>BlackRatingDiff</th>\n",
       "      <th>ECO</th>\n",
       "      <th>Opening</th>\n",
       "      <th>TimeControl</th>\n",
       "      <th>Termination</th>\n",
       "      <th>AN</th>\n",
       "      <th>AN_tok</th>\n",
       "      <th>AN_tok_int</th>\n",
       "    </tr>\n",
       "  </thead>\n",
       "  <tbody>\n",
       "    <tr>\n",
       "      <th>0</th>\n",
       "      <td>0</td>\n",
       "      <td>Classical</td>\n",
       "      <td>eisaaaa</td>\n",
       "      <td>HAMID449</td>\n",
       "      <td>1-0</td>\n",
       "      <td>2016.06.30</td>\n",
       "      <td>22:00:01</td>\n",
       "      <td>1901</td>\n",
       "      <td>1896</td>\n",
       "      <td>11.0</td>\n",
       "      <td>-11.0</td>\n",
       "      <td>D10</td>\n",
       "      <td>Slav Defense</td>\n",
       "      <td>300+5</td>\n",
       "      <td>Time forfeit</td>\n",
       "      <td>1. d4 d5 2. c4 c6 3. e3 a6 4. Nf3 e5 5. cxd5 e...</td>\n",
       "      <td>['1.', 'd4', 'd5', '2.', 'c4', 'c6', '3.', 'e3...</td>\n",
       "      <td>[1, 5271, 5272, 124, 5231, 5233, 237, 5311, 51...</td>\n",
       "    </tr>\n",
       "    <tr>\n",
       "      <th>1</th>\n",
       "      <td>1</td>\n",
       "      <td>Blitz</td>\n",
       "      <td>go4jas</td>\n",
       "      <td>Sergei1973</td>\n",
       "      <td>0-1</td>\n",
       "      <td>2016.06.30</td>\n",
       "      <td>22:00:01</td>\n",
       "      <td>1641</td>\n",
       "      <td>1627</td>\n",
       "      <td>-11.0</td>\n",
       "      <td>12.0</td>\n",
       "      <td>C20</td>\n",
       "      <td>King's Pawn Opening: 2.b3</td>\n",
       "      <td>300+0</td>\n",
       "      <td>Normal</td>\n",
       "      <td>1. e4 e5 2. b3 Nf6 3. Bb2 Nc6 4. Nf3 d6 5. d3 ...</td>\n",
       "      <td>['1.', 'e4', 'e5', '2.', 'b3', 'Nf6', '3.', 'B...</td>\n",
       "      <td>[1, 5312, 5313, 124, 5188, 1346, 237, 419, 113...</td>\n",
       "    </tr>\n",
       "    <tr>\n",
       "      <th>2</th>\n",
       "      <td>2</td>\n",
       "      <td>Blitz tournament</td>\n",
       "      <td>Evangelistaizac</td>\n",
       "      <td>kafune</td>\n",
       "      <td>1-0</td>\n",
       "      <td>2016.06.30</td>\n",
       "      <td>22:00:02</td>\n",
       "      <td>1647</td>\n",
       "      <td>1688</td>\n",
       "      <td>13.0</td>\n",
       "      <td>-13.0</td>\n",
       "      <td>B01</td>\n",
       "      <td>Scandinavian Defense: Mieses-Kotroc Variation</td>\n",
       "      <td>180+0</td>\n",
       "      <td>Time forfeit</td>\n",
       "      <td>1. e4 d5 2. exd5 Qxd5 3. Nf3 Bg4 4. Be2 Nf6 5....</td>\n",
       "      <td>['1.', 'e4', 'd5', '2.', 'exd5', 'Qxd5', '3.',...</td>\n",
       "      <td>[1, 5312, 5272, 124, 5327, 3302, 237, 1343, 49...</td>\n",
       "    </tr>\n",
       "    <tr>\n",
       "      <th>3</th>\n",
       "      <td>3</td>\n",
       "      <td>Correspondence</td>\n",
       "      <td>Jvayne</td>\n",
       "      <td>Wsjvayne</td>\n",
       "      <td>1-0</td>\n",
       "      <td>2016.06.30</td>\n",
       "      <td>22:00:02</td>\n",
       "      <td>1706</td>\n",
       "      <td>1317</td>\n",
       "      <td>27.0</td>\n",
       "      <td>-25.0</td>\n",
       "      <td>A00</td>\n",
       "      <td>Van't Kruijs Opening</td>\n",
       "      <td>-</td>\n",
       "      <td>Normal</td>\n",
       "      <td>1. e3 Nf6 2. Bc4 d6 3. e4 e6 4. Nf3 Nxe4 5. Nd...</td>\n",
       "      <td>['1.', 'e3', 'Nf6', '2.', 'Bc4', 'd6', '3.', '...</td>\n",
       "      <td>[1, 5311, 1346, 124, 436, 5273, 237, 5312, 531...</td>\n",
       "    </tr>\n",
       "    <tr>\n",
       "      <th>4</th>\n",
       "      <td>4</td>\n",
       "      <td>Blitz tournament</td>\n",
       "      <td>kyoday</td>\n",
       "      <td>BrettDale</td>\n",
       "      <td>0-1</td>\n",
       "      <td>2016.06.30</td>\n",
       "      <td>22:00:02</td>\n",
       "      <td>1945</td>\n",
       "      <td>1900</td>\n",
       "      <td>-14.0</td>\n",
       "      <td>13.0</td>\n",
       "      <td>B90</td>\n",
       "      <td>Sicilian Defense: Najdorf, Lipnitsky Attack</td>\n",
       "      <td>180+0</td>\n",
       "      <td>Time forfeit</td>\n",
       "      <td>1. e4 c5 2. Nf3 d6 3. d4 cxd4 4. Nxd4 Nf6 5. N...</td>\n",
       "      <td>['1.', 'e4', 'c5', '2.', 'Nf3', 'd6', '3.', 'd...</td>\n",
       "      <td>[1, 5312, 5232, 124, 1343, 5273, 237, 5271, 52...</td>\n",
       "    </tr>\n",
       "  </tbody>\n",
       "</table>\n",
       "</div>"
      ],
      "text/plain": [
       "   Unnamed: 0               Event            White       Black Result  \\\n",
       "0           0          Classical           eisaaaa    HAMID449    1-0   \n",
       "1           1              Blitz            go4jas  Sergei1973    0-1   \n",
       "2           2   Blitz tournament   Evangelistaizac      kafune    1-0   \n",
       "3           3     Correspondence            Jvayne    Wsjvayne    1-0   \n",
       "4           4   Blitz tournament            kyoday   BrettDale    0-1   \n",
       "\n",
       "      UTCDate   UTCTime  WhiteElo  BlackElo  WhiteRatingDiff  BlackRatingDiff  \\\n",
       "0  2016.06.30  22:00:01      1901      1896             11.0            -11.0   \n",
       "1  2016.06.30  22:00:01      1641      1627            -11.0             12.0   \n",
       "2  2016.06.30  22:00:02      1647      1688             13.0            -13.0   \n",
       "3  2016.06.30  22:00:02      1706      1317             27.0            -25.0   \n",
       "4  2016.06.30  22:00:02      1945      1900            -14.0             13.0   \n",
       "\n",
       "   ECO                                        Opening TimeControl  \\\n",
       "0  D10                                   Slav Defense       300+5   \n",
       "1  C20                      King's Pawn Opening: 2.b3       300+0   \n",
       "2  B01  Scandinavian Defense: Mieses-Kotroc Variation       180+0   \n",
       "3  A00                           Van't Kruijs Opening           -   \n",
       "4  B90    Sicilian Defense: Najdorf, Lipnitsky Attack       180+0   \n",
       "\n",
       "    Termination                                                 AN  \\\n",
       "0  Time forfeit  1. d4 d5 2. c4 c6 3. e3 a6 4. Nf3 e5 5. cxd5 e...   \n",
       "1        Normal  1. e4 e5 2. b3 Nf6 3. Bb2 Nc6 4. Nf3 d6 5. d3 ...   \n",
       "2  Time forfeit  1. e4 d5 2. exd5 Qxd5 3. Nf3 Bg4 4. Be2 Nf6 5....   \n",
       "3        Normal  1. e3 Nf6 2. Bc4 d6 3. e4 e6 4. Nf3 Nxe4 5. Nd...   \n",
       "4  Time forfeit  1. e4 c5 2. Nf3 d6 3. d4 cxd4 4. Nxd4 Nf6 5. N...   \n",
       "\n",
       "                                              AN_tok  \\\n",
       "0  ['1.', 'd4', 'd5', '2.', 'c4', 'c6', '3.', 'e3...   \n",
       "1  ['1.', 'e4', 'e5', '2.', 'b3', 'Nf6', '3.', 'B...   \n",
       "2  ['1.', 'e4', 'd5', '2.', 'exd5', 'Qxd5', '3.',...   \n",
       "3  ['1.', 'e3', 'Nf6', '2.', 'Bc4', 'd6', '3.', '...   \n",
       "4  ['1.', 'e4', 'c5', '2.', 'Nf3', 'd6', '3.', 'd...   \n",
       "\n",
       "                                          AN_tok_int  \n",
       "0  [1, 5271, 5272, 124, 5231, 5233, 237, 5311, 51...  \n",
       "1  [1, 5312, 5313, 124, 5188, 1346, 237, 419, 113...  \n",
       "2  [1, 5312, 5272, 124, 5327, 3302, 237, 1343, 49...  \n",
       "3  [1, 5311, 1346, 124, 436, 5273, 237, 5312, 531...  \n",
       "4  [1, 5312, 5232, 124, 1343, 5273, 237, 5271, 52...  "
      ]
     },
     "execution_count": 4,
     "metadata": {},
     "output_type": "execute_result"
    }
   ],
   "source": [
    "df = pd.read_csv(CSV_NAME)\n",
    "df.head()"
   ]
  },
  {
   "cell_type": "code",
   "execution_count": 5,
   "id": "5589fb60-1faa-4911-81fd-56b9a5edcf3a",
   "metadata": {},
   "outputs": [
    {
     "data": {
      "text/plain": [
       "[('<PAD>', 0),\n",
       " ('1.', 1),\n",
       " ('1...', 2),\n",
       " ('10.', 3),\n",
       " ('10...', 4),\n",
       " ('100.', 5),\n",
       " ('100...', 6),\n",
       " ('101.', 7),\n",
       " ('102.', 8),\n",
       " ('103.', 9)]"
      ]
     },
     "execution_count": 5,
     "metadata": {},
     "output_type": "execute_result"
    }
   ],
   "source": [
    "with open(VOCAB_FILE, \"r\") as f:\n",
    "    vocab_dict = json.load(f)\n",
    "list(vocab_dict.items())[:10]"
   ]
  },
  {
   "cell_type": "code",
   "execution_count": 8,
   "id": "6db3a331-cac6-4bdd-af85-547e8c2eb939",
   "metadata": {},
   "outputs": [
    {
     "data": {
      "text/plain": [
       "0    0\n",
       "1    1\n",
       "2    0\n",
       "3    0\n",
       "4    1\n",
       "Name: Result, dtype: int64"
      ]
     },
     "execution_count": 8,
     "metadata": {},
     "output_type": "execute_result"
    }
   ],
   "source": [
    "result_keys = {'1-0': 0, '0-1': 1, '1/2-1/2': 2, '*': 3}\n",
    "\n",
    "def get_encoded_result(string):\n",
    "    return result_keys[string]\n",
    "\n",
    "res = df.head()['Result'].apply(get_encoded_result)\n",
    "res"
   ]
  },
  {
   "cell_type": "code",
   "execution_count": 9,
   "id": "716f40ef-1856-482d-b06a-84a896e0a37c",
   "metadata": {},
   "outputs": [
    {
     "data": {
      "text/plain": [
       "Result_enc\n",
       "0    778004\n",
       "1    725808\n",
       "2     59629\n",
       "3       605\n",
       "Name: count, dtype: int64"
      ]
     },
     "execution_count": 9,
     "metadata": {},
     "output_type": "execute_result"
    }
   ],
   "source": [
    "df['Result_enc'] = df['Result'].apply(get_encoded_result)\n",
    "df['Result_enc'].value_counts()"
   ]
  },
  {
   "cell_type": "code",
   "execution_count": 10,
   "id": "6e24af64-7611-4aec-80af-f44264d2b4c3",
   "metadata": {},
   "outputs": [
    {
     "data": {
      "text/plain": [
       "count    1.564046e+06\n",
       "mean     5.620655e+02\n",
       "std      2.589149e+02\n",
       "min      9.000000e+00\n",
       "25%      3.840000e+02\n",
       "50%      5.350000e+02\n",
       "75%      7.220000e+02\n",
       "max      4.469000e+03\n",
       "Name: AN_tok_int, dtype: float64"
      ]
     },
     "execution_count": 10,
     "metadata": {},
     "output_type": "execute_result"
    }
   ],
   "source": [
    "lengths = df['AN_tok_int'].apply(len)\n",
    "lengths.describe()"
   ]
  },
  {
   "cell_type": "code",
   "execution_count": 11,
   "id": "7433092e-702a-4b8c-8681-daad9537f06c",
   "metadata": {},
   "outputs": [
    {
     "data": {
      "text/plain": [
       "0          [1, 5271, 5272, 124, 5231, 5233, 237, 5311, 51...\n",
       "1          [1, 5312, 5313, 124, 5188, 1346, 237, 419, 113...\n",
       "2          [1, 5312, 5272, 124, 5327, 3302, 237, 1343, 49...\n",
       "3          [1, 5311, 1346, 124, 436, 5273, 237, 5312, 531...\n",
       "4          [1, 5312, 5232, 124, 1343, 5273, 237, 5271, 52...\n",
       "                                 ...                        \n",
       "1564041    [1, 5271, 5272, 124, 1343, 1131, 237, 5311, 53...\n",
       "1564042    [1, 5312, 5232, 124, 1343, 5163, 237, 436, 531...\n",
       "1564043    [1, 5188, 2, 5314, 124, 419, 125, 5273, 237, 5...\n",
       "1564044    [1, 5271, 5272, 124, 5231, 5233, 237, 1128, 13...\n",
       "1564045    [1, 5271, 1346, 124, 5231, 5398, 237, 1128, 52...\n",
       "Name: AN_tok_int, Length: 1564046, dtype: object"
      ]
     },
     "execution_count": 11,
     "metadata": {},
     "output_type": "execute_result"
    }
   ],
   "source": [
    "def decode_array_strings(string):\n",
    "    clipped = string[1:-1]\n",
    "    divided = clipped.split(', ')\n",
    "    return [int(x) for x in divided]\n",
    "\n",
    "df['AN_tok_int'] = df['AN_tok_int'].apply(decode_array_strings)\n",
    "df['AN_tok_int']"
   ]
  },
  {
   "cell_type": "code",
   "execution_count": 12,
   "id": "6ea81dab-1096-4548-bdda-7ee1db12e378",
   "metadata": {},
   "outputs": [],
   "source": [
    "cleaned = df[(df['Result_enc'] != 3) & (df['Result_enc'] != 2)]"
   ]
  },
  {
   "cell_type": "code",
   "execution_count": 13,
   "id": "9eb0d31c-6f62-496f-93f2-524a321c1964",
   "metadata": {},
   "outputs": [
    {
     "data": {
      "text/plain": [
       "0    [1, 5271, 5272, 124, 5231, 5233, 237, 5311, 51...\n",
       "1    [1, 5312, 5313, 124, 5188, 1346, 237, 419, 113...\n",
       "Name: AN_tok_int, dtype: object"
      ]
     },
     "execution_count": 13,
     "metadata": {},
     "output_type": "execute_result"
    }
   ],
   "source": [
    "import numpy as np\n",
    "clean_X = cleaned['AN_tok_int']\n",
    "# clean_X = [np.array(x) for x in clean_X]\n",
    "clean_X[:2]"
   ]
  },
  {
   "cell_type": "code",
   "execution_count": 14,
   "id": "972cc09f-1256-4212-abfe-cd9335b230e7",
   "metadata": {},
   "outputs": [
    {
     "data": {
      "text/plain": [
       "0          0\n",
       "1          1\n",
       "2          0\n",
       "3          0\n",
       "4          1\n",
       "          ..\n",
       "1564041    0\n",
       "1564042    1\n",
       "1564043    0\n",
       "1564044    1\n",
       "1564045    1\n",
       "Name: Result_enc, Length: 1503812, dtype: int64"
      ]
     },
     "execution_count": 14,
     "metadata": {},
     "output_type": "execute_result"
    }
   ],
   "source": [
    "clean_Y = cleaned['Result_enc']\n",
    "clean_Y"
   ]
  },
  {
   "cell_type": "code",
   "execution_count": 15,
   "id": "aaf3598d-3b2d-4233-a748-5252479001da",
   "metadata": {},
   "outputs": [
    {
     "data": {
      "text/plain": [
       "count    1.503812e+06\n",
       "mean     1.025083e+02\n",
       "std      4.637165e+01\n",
       "min      2.000000e+00\n",
       "25%      7.100000e+01\n",
       "50%      9.800000e+01\n",
       "75%      1.310000e+02\n",
       "max      8.940000e+02\n",
       "Name: AN_tok_int, dtype: float64"
      ]
     },
     "execution_count": 15,
     "metadata": {},
     "output_type": "execute_result"
    }
   ],
   "source": [
    "cleaned['AN_tok_int'].apply(len).describe()"
   ]
  },
  {
   "cell_type": "code",
   "execution_count": 30,
   "id": "c0a11a6f-3abc-4d20-9492-429478e1cb86",
   "metadata": {},
   "outputs": [
    {
     "name": "stdout",
     "output_type": "stream",
     "text": [
      "Result_enc\n",
      "0    778004\n",
      "1    725808\n",
      "Name: count, dtype: int64\n"
     ]
    }
   ],
   "source": [
    "print(cleaned['Result_enc'].value_counts())"
   ]
  },
  {
   "cell_type": "code",
   "execution_count": 16,
   "id": "9d2a676b-0ba4-4ba5-9173-776e6958e81f",
   "metadata": {},
   "outputs": [],
   "source": [
    "max_len = 150  # Set your desired length"
   ]
  },
  {
   "cell_type": "code",
   "execution_count": 17,
   "id": "4fa0a377-c158-4c04-bd1a-f8104957a825",
   "metadata": {},
   "outputs": [],
   "source": [
    "def pad_or_clip(lst, desired_length):\n",
    "    return (lst + [0] * desired_length)[:desired_length]\n",
    "padded_X = [pad_or_clip(x, max_len) for x in clean_X]"
   ]
  },
  {
   "cell_type": "code",
   "execution_count": 18,
   "id": "db98f083-c2ae-4dcc-bbf5-229a9e581172",
   "metadata": {
    "scrolled": true,
    "tags": []
   },
   "outputs": [
    {
     "data": {
      "text/plain": [
       "[[1,\n",
       "  5271,\n",
       "  5272,\n",
       "  124,\n",
       "  5231,\n",
       "  5233,\n",
       "  237,\n",
       "  5311,\n",
       "  5163,\n",
       "  259,\n",
       "  1343,\n",
       "  5313,\n",
       "  281,\n",
       "  5258,\n",
       "  5312,\n",
       "  303,\n",
       "  1273,\n",
       "  5258,\n",
       "  325,\n",
       "  2240,\n",
       "  450,\n",
       "  347,\n",
       "  1538,\n",
       "  1538,\n",
       "  369,\n",
       "  1128,\n",
       "  1346,\n",
       "  3,\n",
       "  2371,\n",
       "  464,\n",
       "  16,\n",
       "  1536,\n",
       "  2241,\n",
       "  28,\n",
       "  1128,\n",
       "  1572,\n",
       "  40,\n",
       "  459,\n",
       "  5190,\n",
       "  52,\n",
       "  1572,\n",
       "  4046,\n",
       "  64,\n",
       "  445,\n",
       "  2502,\n",
       "  76,\n",
       "  4031,\n",
       "  2637,\n",
       "  88,\n",
       "  2496,\n",
       "  2770,\n",
       "  100,\n",
       "  1070,\n",
       "  449,\n",
       "  112,\n",
       "  5160,\n",
       "  1075,\n",
       "  126,\n",
       "  2500,\n",
       "  1353,\n",
       "  138,\n",
       "  407,\n",
       "  4285,\n",
       "  150,\n",
       "  2377,\n",
       "  3158,\n",
       "  162,\n",
       "  5436,\n",
       "  1129,\n",
       "  174,\n",
       "  542,\n",
       "  5217,\n",
       "  186,\n",
       "  3302,\n",
       "  4723,\n",
       "  198,\n",
       "  3309,\n",
       "  4419,\n",
       "  210,\n",
       "  435,\n",
       "  4555,\n",
       "  222,\n",
       "  2898,\n",
       "  4554,\n",
       "  234,\n",
       "  1198,\n",
       "  4689,\n",
       "  239,\n",
       "  3029,\n",
       "  4556,\n",
       "  241,\n",
       "  1272,\n",
       "  4825,\n",
       "  243,\n",
       "  2638,\n",
       "  4691,\n",
       "  245,\n",
       "  1537,\n",
       "  5120,\n",
       "  247,\n",
       "  2502,\n",
       "  4825,\n",
       "  249,\n",
       "  3154,\n",
       "  4556,\n",
       "  251,\n",
       "  5272,\n",
       "  5356,\n",
       "  253,\n",
       "  5273,\n",
       "  4420,\n",
       "  255,\n",
       "  4716,\n",
       "  0,\n",
       "  0,\n",
       "  0,\n",
       "  0,\n",
       "  0,\n",
       "  0,\n",
       "  0,\n",
       "  0,\n",
       "  0,\n",
       "  0,\n",
       "  0,\n",
       "  0,\n",
       "  0,\n",
       "  0,\n",
       "  0,\n",
       "  0,\n",
       "  0,\n",
       "  0,\n",
       "  0,\n",
       "  0,\n",
       "  0,\n",
       "  0,\n",
       "  0,\n",
       "  0,\n",
       "  0,\n",
       "  0,\n",
       "  0,\n",
       "  0,\n",
       "  0,\n",
       "  0,\n",
       "  0,\n",
       "  0,\n",
       "  0,\n",
       "  0,\n",
       "  0,\n",
       "  0,\n",
       "  0],\n",
       " [1,\n",
       "  5312,\n",
       "  5313,\n",
       "  124,\n",
       "  5188,\n",
       "  1346,\n",
       "  237,\n",
       "  419,\n",
       "  1131,\n",
       "  259,\n",
       "  1343,\n",
       "  5273,\n",
       "  281,\n",
       "  5270,\n",
       "  5398,\n",
       "  303,\n",
       "  1095,\n",
       "  494,\n",
       "  325,\n",
       "  5395,\n",
       "  463,\n",
       "  347,\n",
       "  489,\n",
       "  2638,\n",
       "  369,\n",
       "  1572,\n",
       "  1572,\n",
       "  3,\n",
       "  5230,\n",
       "  5190,\n",
       "  16,\n",
       "  5271,\n",
       "  5326,\n",
       "  28,\n",
       "  5257,\n",
       "  491,\n",
       "  40,\n",
       "  4278,\n",
       "  4731,\n",
       "  52,\n",
       "  2496,\n",
       "  1073,\n",
       "  64,\n",
       "  3296,\n",
       "  3296,\n",
       "  76,\n",
       "  5113,\n",
       "  1509,\n",
       "  88,\n",
       "  4007,\n",
       "  1073,\n",
       "  100,\n",
       "  4085,\n",
       "  5097,\n",
       "  112,\n",
       "  5097,\n",
       "  1543,\n",
       "  126,\n",
       "  1543,\n",
       "  5126,\n",
       "  138,\n",
       "  1417,\n",
       "  4549,\n",
       "  150,\n",
       "  472,\n",
       "  459,\n",
       "  162,\n",
       "  5137,\n",
       "  563,\n",
       "  174,\n",
       "  643,\n",
       "  508,\n",
       "  0,\n",
       "  0,\n",
       "  0,\n",
       "  0,\n",
       "  0,\n",
       "  0,\n",
       "  0,\n",
       "  0,\n",
       "  0,\n",
       "  0,\n",
       "  0,\n",
       "  0,\n",
       "  0,\n",
       "  0,\n",
       "  0,\n",
       "  0,\n",
       "  0,\n",
       "  0,\n",
       "  0,\n",
       "  0,\n",
       "  0,\n",
       "  0,\n",
       "  0,\n",
       "  0,\n",
       "  0,\n",
       "  0,\n",
       "  0,\n",
       "  0,\n",
       "  0,\n",
       "  0,\n",
       "  0,\n",
       "  0,\n",
       "  0,\n",
       "  0,\n",
       "  0,\n",
       "  0,\n",
       "  0,\n",
       "  0,\n",
       "  0,\n",
       "  0,\n",
       "  0,\n",
       "  0,\n",
       "  0,\n",
       "  0,\n",
       "  0,\n",
       "  0,\n",
       "  0,\n",
       "  0,\n",
       "  0,\n",
       "  0,\n",
       "  0,\n",
       "  0,\n",
       "  0,\n",
       "  0,\n",
       "  0,\n",
       "  0,\n",
       "  0,\n",
       "  0,\n",
       "  0,\n",
       "  0,\n",
       "  0,\n",
       "  0,\n",
       "  0,\n",
       "  0,\n",
       "  0,\n",
       "  0,\n",
       "  0,\n",
       "  0,\n",
       "  0,\n",
       "  0,\n",
       "  0,\n",
       "  0,\n",
       "  0,\n",
       "  0,\n",
       "  0,\n",
       "  0,\n",
       "  0,\n",
       "  0]]"
      ]
     },
     "execution_count": 18,
     "metadata": {},
     "output_type": "execute_result"
    }
   ],
   "source": [
    "padded_X[:2]"
   ]
  },
  {
   "cell_type": "code",
   "execution_count": 19,
   "id": "a442aee6-e502-48aa-b004-80c7632eaca3",
   "metadata": {},
   "outputs": [
    {
     "data": {
      "text/plain": [
       "torch.Size([1503812, 150])"
      ]
     },
     "execution_count": 19,
     "metadata": {},
     "output_type": "execute_result"
    }
   ],
   "source": [
    "X_tensor = torch.tensor(padded_X)\n",
    "X_tensor.shape"
   ]
  },
  {
   "cell_type": "code",
   "execution_count": 20,
   "id": "6f5fd00f-1c47-4888-ba6e-9f76e55ff248",
   "metadata": {},
   "outputs": [
    {
     "data": {
      "text/plain": [
       "torch.Size([1503812])"
      ]
     },
     "execution_count": 20,
     "metadata": {},
     "output_type": "execute_result"
    }
   ],
   "source": [
    "Y_tensor = torch.tensor(list(clean_Y))\n",
    "Y_tensor.shape"
   ]
  },
  {
   "cell_type": "code",
   "execution_count": 21,
   "id": "bb136ca5-4036-4d61-8c6c-7748210ea2e9",
   "metadata": {},
   "outputs": [],
   "source": [
    "# Save the dataset containing the full moves\n",
    "full_x_name = 'x_full.pt'\n",
    "full_y_name = 'y_full.pt'\n",
    "\n",
    "torch.save(X_tensor, full_x_name)\n",
    "torch.save(Y_tensor, full_y_name)"
   ]
  },
  {
   "cell_type": "code",
   "execution_count": 22,
   "id": "3ad15c51-d314-49c9-9e75-1fbfe63760a9",
   "metadata": {},
   "outputs": [],
   "source": [
    "# Now process the dataset to remove the last TAIL moves\n",
    "\n",
    "# Parameters\n",
    "TAIL_MOVES = 5\n",
    "TOKS_PER_MOVE = 3\n",
    "MIN_MOVES = 15\n",
    "\n",
    "TAIL = TAIL_MOVES * TOKS_PER_MOVE # predict ten moves \n",
    "MIN_TOKS = MIN_MOVES * TOKS_PER_MOVE # Set a minimum length for game sequences\n",
    "\n"
   ]
  },
  {
   "cell_type": "code",
   "execution_count": 23,
   "id": "29a1155f-b32e-44a2-817a-1e0cc201a291",
   "metadata": {},
   "outputs": [
    {
     "data": {
      "text/plain": [
       "count    1.362676e+06\n",
       "mean     1.101517e+02\n",
       "std      4.165687e+01\n",
       "min      4.500000e+01\n",
       "25%      8.000000e+01\n",
       "50%      1.040000e+02\n",
       "75%      1.350000e+02\n",
       "max      8.940000e+02\n",
       "Name: AN_tok_int, dtype: float64"
      ]
     },
     "execution_count": 23,
     "metadata": {},
     "output_type": "execute_result"
    }
   ],
   "source": [
    "# Remove all games that have fewer than MIN_TOKS move tokens\n",
    "df_min = cleaned[cleaned['AN_tok_int'].apply(len) >= MIN_TOKS]\n",
    "df_min['AN_tok_int'].apply(len).describe()"
   ]
  },
  {
   "cell_type": "code",
   "execution_count": 24,
   "id": "cbedc70b-9b30-47bb-970f-bd4b42225bdd",
   "metadata": {},
   "outputs": [
    {
     "name": "stderr",
     "output_type": "stream",
     "text": [
      "C:\\Users\\timec\\AppData\\Local\\Temp\\ipykernel_26996\\2629193374.py:5: SettingWithCopyWarning: \n",
      "A value is trying to be set on a copy of a slice from a DataFrame.\n",
      "Try using .loc[row_indexer,col_indexer] = value instead\n",
      "\n",
      "See the caveats in the documentation: https://pandas.pydata.org/pandas-docs/stable/user_guide/indexing.html#returning-a-view-versus-a-copy\n",
      "  df_min['AN_tok_trimmed'] = df_min['AN_tok_int'].apply(remove_tail)\n"
     ]
    },
    {
     "data": {
      "text/plain": [
       "count    1.362676e+06\n",
       "mean     9.515169e+01\n",
       "std      4.165687e+01\n",
       "min      3.000000e+01\n",
       "25%      6.500000e+01\n",
       "50%      8.900000e+01\n",
       "75%      1.200000e+02\n",
       "max      8.790000e+02\n",
       "Name: AN_tok_trimmed, dtype: float64"
      ]
     },
     "execution_count": 24,
     "metadata": {},
     "output_type": "execute_result"
    }
   ],
   "source": [
    "# Remove the TAIL tokens from these games\n",
    "def remove_tail(seq):\n",
    "    return seq[:-TAIL]\n",
    "\n",
    "df_min['AN_tok_trimmed'] = df_min['AN_tok_int'].apply(remove_tail)\n",
    "df_min['AN_tok_trimmed'].apply(len).describe()"
   ]
  },
  {
   "cell_type": "code",
   "execution_count": 25,
   "id": "6bdf5427-2010-4494-83fc-5f6278430991",
   "metadata": {},
   "outputs": [
    {
     "data": {
      "text/plain": [
       "((1362676,), (1362676,))"
      ]
     },
     "execution_count": 25,
     "metadata": {},
     "output_type": "execute_result"
    }
   ],
   "source": [
    "# Now pad/trim these sequences and save the resulting tensor\n",
    "import numpy as np\n",
    "X_np = df_min['AN_tok_trimmed']\n",
    "Y_np = df_min['Result_enc']\n",
    "\n",
    "X_np.shape, Y_np.shape"
   ]
  },
  {
   "cell_type": "code",
   "execution_count": 26,
   "id": "b101bd45-f88d-45e6-b117-6b707aa7ca0e",
   "metadata": {
    "scrolled": true,
    "tags": []
   },
   "outputs": [
    {
     "data": {
      "text/plain": [
       "[[1,\n",
       "  5271,\n",
       "  5272,\n",
       "  124,\n",
       "  5231,\n",
       "  5233,\n",
       "  237,\n",
       "  5311,\n",
       "  5163,\n",
       "  259,\n",
       "  1343,\n",
       "  5313,\n",
       "  281,\n",
       "  5258,\n",
       "  5312,\n",
       "  303,\n",
       "  1273,\n",
       "  5258,\n",
       "  325,\n",
       "  2240,\n",
       "  450,\n",
       "  347,\n",
       "  1538,\n",
       "  1538,\n",
       "  369,\n",
       "  1128,\n",
       "  1346,\n",
       "  3,\n",
       "  2371,\n",
       "  464,\n",
       "  16,\n",
       "  1536,\n",
       "  2241,\n",
       "  28,\n",
       "  1128,\n",
       "  1572,\n",
       "  40,\n",
       "  459,\n",
       "  5190,\n",
       "  52,\n",
       "  1572,\n",
       "  4046,\n",
       "  64,\n",
       "  445,\n",
       "  2502,\n",
       "  76,\n",
       "  4031,\n",
       "  2637,\n",
       "  88,\n",
       "  2496,\n",
       "  2770,\n",
       "  100,\n",
       "  1070,\n",
       "  449,\n",
       "  112,\n",
       "  5160,\n",
       "  1075,\n",
       "  126,\n",
       "  2500,\n",
       "  1353,\n",
       "  138,\n",
       "  407,\n",
       "  4285,\n",
       "  150,\n",
       "  2377,\n",
       "  3158,\n",
       "  162,\n",
       "  5436,\n",
       "  1129,\n",
       "  174,\n",
       "  542,\n",
       "  5217,\n",
       "  186,\n",
       "  3302,\n",
       "  4723,\n",
       "  198,\n",
       "  3309,\n",
       "  4419,\n",
       "  210,\n",
       "  435,\n",
       "  4555,\n",
       "  222,\n",
       "  2898,\n",
       "  4554,\n",
       "  234,\n",
       "  1198,\n",
       "  4689,\n",
       "  239,\n",
       "  3029,\n",
       "  4556,\n",
       "  241,\n",
       "  1272,\n",
       "  4825,\n",
       "  243,\n",
       "  2638,\n",
       "  4691,\n",
       "  245,\n",
       "  1537,\n",
       "  0,\n",
       "  0,\n",
       "  0,\n",
       "  0,\n",
       "  0,\n",
       "  0,\n",
       "  0,\n",
       "  0,\n",
       "  0,\n",
       "  0,\n",
       "  0,\n",
       "  0,\n",
       "  0,\n",
       "  0,\n",
       "  0,\n",
       "  0,\n",
       "  0,\n",
       "  0,\n",
       "  0,\n",
       "  0,\n",
       "  0,\n",
       "  0,\n",
       "  0,\n",
       "  0,\n",
       "  0,\n",
       "  0,\n",
       "  0,\n",
       "  0,\n",
       "  0,\n",
       "  0,\n",
       "  0,\n",
       "  0,\n",
       "  0,\n",
       "  0,\n",
       "  0,\n",
       "  0,\n",
       "  0,\n",
       "  0,\n",
       "  0,\n",
       "  0,\n",
       "  0,\n",
       "  0,\n",
       "  0,\n",
       "  0,\n",
       "  0,\n",
       "  0,\n",
       "  0,\n",
       "  0,\n",
       "  0,\n",
       "  0,\n",
       "  0,\n",
       "  0],\n",
       " [1,\n",
       "  5312,\n",
       "  5313,\n",
       "  124,\n",
       "  5188,\n",
       "  1346,\n",
       "  237,\n",
       "  419,\n",
       "  1131,\n",
       "  259,\n",
       "  1343,\n",
       "  5273,\n",
       "  281,\n",
       "  5270,\n",
       "  5398,\n",
       "  303,\n",
       "  1095,\n",
       "  494,\n",
       "  325,\n",
       "  5395,\n",
       "  463,\n",
       "  347,\n",
       "  489,\n",
       "  2638,\n",
       "  369,\n",
       "  1572,\n",
       "  1572,\n",
       "  3,\n",
       "  5230,\n",
       "  5190,\n",
       "  16,\n",
       "  5271,\n",
       "  5326,\n",
       "  28,\n",
       "  5257,\n",
       "  491,\n",
       "  40,\n",
       "  4278,\n",
       "  4731,\n",
       "  52,\n",
       "  2496,\n",
       "  1073,\n",
       "  64,\n",
       "  3296,\n",
       "  3296,\n",
       "  76,\n",
       "  5113,\n",
       "  1509,\n",
       "  88,\n",
       "  4007,\n",
       "  1073,\n",
       "  100,\n",
       "  4085,\n",
       "  5097,\n",
       "  112,\n",
       "  5097,\n",
       "  1543,\n",
       "  0,\n",
       "  0,\n",
       "  0,\n",
       "  0,\n",
       "  0,\n",
       "  0,\n",
       "  0,\n",
       "  0,\n",
       "  0,\n",
       "  0,\n",
       "  0,\n",
       "  0,\n",
       "  0,\n",
       "  0,\n",
       "  0,\n",
       "  0,\n",
       "  0,\n",
       "  0,\n",
       "  0,\n",
       "  0,\n",
       "  0,\n",
       "  0,\n",
       "  0,\n",
       "  0,\n",
       "  0,\n",
       "  0,\n",
       "  0,\n",
       "  0,\n",
       "  0,\n",
       "  0,\n",
       "  0,\n",
       "  0,\n",
       "  0,\n",
       "  0,\n",
       "  0,\n",
       "  0,\n",
       "  0,\n",
       "  0,\n",
       "  0,\n",
       "  0,\n",
       "  0,\n",
       "  0,\n",
       "  0,\n",
       "  0,\n",
       "  0,\n",
       "  0,\n",
       "  0,\n",
       "  0,\n",
       "  0,\n",
       "  0,\n",
       "  0,\n",
       "  0,\n",
       "  0,\n",
       "  0,\n",
       "  0,\n",
       "  0,\n",
       "  0,\n",
       "  0,\n",
       "  0,\n",
       "  0,\n",
       "  0,\n",
       "  0,\n",
       "  0,\n",
       "  0,\n",
       "  0,\n",
       "  0,\n",
       "  0,\n",
       "  0,\n",
       "  0,\n",
       "  0,\n",
       "  0,\n",
       "  0,\n",
       "  0,\n",
       "  0,\n",
       "  0,\n",
       "  0,\n",
       "  0,\n",
       "  0,\n",
       "  0,\n",
       "  0,\n",
       "  0,\n",
       "  0,\n",
       "  0,\n",
       "  0,\n",
       "  0,\n",
       "  0,\n",
       "  0,\n",
       "  0,\n",
       "  0,\n",
       "  0,\n",
       "  0,\n",
       "  0,\n",
       "  0]]"
      ]
     },
     "execution_count": 26,
     "metadata": {},
     "output_type": "execute_result"
    }
   ],
   "source": [
    "max_len = 150 # Arbitrary parameter\n",
    "def pad_or_clip(lst, desired_length):\n",
    "    return (lst + [0] * desired_length)[:desired_length]\n",
    "X_np_pad = [pad_or_clip(x, max_len) for x in X_np]\n",
    "X_np_pad[:2]"
   ]
  },
  {
   "cell_type": "code",
   "execution_count": null,
   "id": "74a3d035-3a94-4dcd-ba2c-d9c603007d68",
   "metadata": {},
   "outputs": [],
   "source": []
  },
  {
   "cell_type": "code",
   "execution_count": 27,
   "id": "187e4295-7525-4073-b1f7-bc352e79ea16",
   "metadata": {},
   "outputs": [
    {
     "data": {
      "text/plain": [
       "torch.Size([1362676, 150])"
      ]
     },
     "execution_count": 27,
     "metadata": {},
     "output_type": "execute_result"
    }
   ],
   "source": [
    "X_trim = torch.tensor(X_np_pad)\n",
    "X_trim.shape"
   ]
  },
  {
   "cell_type": "code",
   "execution_count": 28,
   "id": "1c0b649e-f770-45a7-8c58-7fe8cedee80a",
   "metadata": {},
   "outputs": [
    {
     "data": {
      "text/plain": [
       "torch.Size([1362676])"
      ]
     },
     "execution_count": 28,
     "metadata": {},
     "output_type": "execute_result"
    }
   ],
   "source": [
    "Y_trim = torch.tensor(list(Y_np))\n",
    "Y_trim.shape"
   ]
  },
  {
   "cell_type": "code",
   "execution_count": 29,
   "id": "c00119a4-366c-4562-bc83-0e416db02758",
   "metadata": {},
   "outputs": [],
   "source": [
    "# Save the dataset containing the full moves\n",
    "trim_x_name = f\"x_trim_{TAIL_MOVES}.pt\"\n",
    "trim_y_name = f'y_trim_{TAIL_MOVES}.pt'\n",
    "\n",
    "torch.save(X_trim, trim_x_name)\n",
    "torch.save(Y_trim, trim_y_name)"
   ]
  },
  {
   "cell_type": "code",
   "execution_count": 31,
   "id": "e901f91c-d9c1-437c-b13f-dda9bb99c244",
   "metadata": {},
   "outputs": [
    {
     "name": "stdout",
     "output_type": "stream",
     "text": [
      "5458\n",
      "1\n"
     ]
    }
   ],
   "source": [
    "print(cleaned['AN_tok_int'].apply(lambda x: max(x)).max())\n",
    "print(cleaned['AN_tok_int'].apply(lambda x: min(x)).min())"
   ]
  }
 ],
 "metadata": {
  "kernelspec": {
   "display_name": "Python 3 (ipykernel)",
   "language": "python",
   "name": "python3"
  },
  "language_info": {
   "codemirror_mode": {
    "name": "ipython",
    "version": 3
   },
   "file_extension": ".py",
   "mimetype": "text/x-python",
   "name": "python",
   "nbconvert_exporter": "python",
   "pygments_lexer": "ipython3",
   "version": "3.11.2"
  }
 },
 "nbformat": 4,
 "nbformat_minor": 5
}
