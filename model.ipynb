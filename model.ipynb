{
 "cells": [
  {
   "cell_type": "code",
   "execution_count": 2,
   "id": "85c46cc5-bd28-46a5-b5d7-8275143470af",
   "metadata": {},
   "outputs": [],
   "source": [
    "import torch"
   ]
  },
  {
   "cell_type": "code",
   "execution_count": 3,
   "id": "e2d7a01b-f42d-4816-b071-495acdddd34b",
   "metadata": {},
   "outputs": [
    {
     "name": "stderr",
     "output_type": "stream",
     "text": [
      "/tmp/ipykernel_1454781/2518651434.py:1: FutureWarning: You are using `torch.load` with `weights_only=False` (the current default value), which uses the default pickle module implicitly. It is possible to construct malicious pickle data which will execute arbitrary code during unpickling (See https://github.com/pytorch/pytorch/blob/main/SECURITY.md#untrusted-models for more details). In a future release, the default value for `weights_only` will be flipped to `True`. This limits the functions that could be executed during unpickling. Arbitrary objects will no longer be allowed to be loaded via this mode unless they are explicitly allowlisted by the user via `torch.serialization.add_safe_globals`. We recommend you start setting `weights_only=True` for any use case where you don't have full control of the loaded file. Please open an issue on GitHub for any issues related to this experimental feature.\n",
      "  X = torch.load('x_trim_5.pt')\n",
      "/tmp/ipykernel_1454781/2518651434.py:2: FutureWarning: You are using `torch.load` with `weights_only=False` (the current default value), which uses the default pickle module implicitly. It is possible to construct malicious pickle data which will execute arbitrary code during unpickling (See https://github.com/pytorch/pytorch/blob/main/SECURITY.md#untrusted-models for more details). In a future release, the default value for `weights_only` will be flipped to `True`. This limits the functions that could be executed during unpickling. Arbitrary objects will no longer be allowed to be loaded via this mode unless they are explicitly allowlisted by the user via `torch.serialization.add_safe_globals`. We recommend you start setting `weights_only=True` for any use case where you don't have full control of the loaded file. Please open an issue on GitHub for any issues related to this experimental feature.\n",
      "  Y = torch.load('y_trim_5.pt')\n"
     ]
    }
   ],
   "source": [
    "X = torch.load('x_trim_5.pt')\n",
    "Y = torch.load('y_trim_5.pt')"
   ]
  },
  {
   "cell_type": "code",
   "execution_count": 4,
   "id": "eac3803b-7211-48dd-9f82-971e398a0878",
   "metadata": {},
   "outputs": [
    {
     "data": {
      "text/plain": [
       "(torch.Size([1420687, 150]), torch.Size([1420687]))"
      ]
     },
     "execution_count": 4,
     "metadata": {},
     "output_type": "execute_result"
    }
   ],
   "source": [
    "X.size(), Y.size()"
   ]
  },
  {
   "cell_type": "code",
   "execution_count": null,
   "id": "11de25c5-b33b-45dc-8eee-8ad57c8c7acd",
   "metadata": {},
   "outputs": [],
   "source": []
  },
  {
   "cell_type": "code",
   "execution_count": 5,
   "id": "0b2b90f2-1dee-4dfb-9034-920e561c4847",
   "metadata": {},
   "outputs": [],
   "source": [
    "# Parameters\n",
    "input_size = X.size(1)\n"
   ]
  },
  {
   "cell_type": "code",
   "execution_count": 6,
   "id": "ad93a482-b352-47e7-9d3c-d1f41e925426",
   "metadata": {},
   "outputs": [],
   "source": [
    "from torch.utils.data import random_split, DataLoader\n",
    "\n",
    "# Example data\n",
    "X_train = X  \n",
    "y_train = Y  \n",
    "\n",
    "# Define the size for the training and testing splits\n",
    "train_size = int(0.8 * len(X_train))  # 80% for training\n",
    "test_size = len(X_train) - train_size  # remaining 20% for testing\n",
    "\n",
    "# Split the dataset\n",
    "train_dataset, test_dataset = random_split(list(zip(X_train, y_train)), [train_size, test_size])\n",
    "\n",
    "train_loader = DataLoader(train_dataset, batch_size=64, shuffle=True)\n",
    "test_loader = DataLoader(test_dataset, batch_size=64, shuffle=False)"
   ]
  },
  {
   "cell_type": "code",
   "execution_count": 7,
   "id": "e1f65d7a-1b45-44b3-8d64-f9b1aaf060c1",
   "metadata": {},
   "outputs": [],
   "source": [
    "from torch.utils.data import random_split, DataLoader\n",
    "\n",
    "# Example data\n",
    "X_train = X\n",
    "y_train = Y\n",
    "\n",
    "# Define the sizes for training, validation, and testing splits\n",
    "train_size = int(0.7 * len(X_train))  # 70% for training\n",
    "val_size = int(0.15 * len(X_train))  # 15% for validation\n",
    "test_size = len(X_train) - train_size - val_size  # remaining 15% for testing\n",
    "\n",
    "# Split the dataset\n",
    "train_dataset, val_dataset, test_dataset = random_split(\n",
    "    list(zip(X_train, y_train)), [train_size, val_size, test_size]\n",
    ")\n",
    "\n",
    "# Create data loaders\n",
    "train_loader = DataLoader(train_dataset, batch_size=64, shuffle=True)\n",
    "val_loader = DataLoader(val_dataset, batch_size=64, shuffle=False)\n",
    "test_loader = DataLoader(test_dataset, batch_size=64, shuffle=False)\n"
   ]
  },
  {
   "cell_type": "code",
   "execution_count": null,
   "id": "e84ecf70-5137-4fb5-aaf4-4b5cf7f1cb70",
   "metadata": {},
   "outputs": [],
   "source": [
    "# Hyperparameters\n"
   ]
  },
  {
   "cell_type": "code",
   "execution_count": 9,
   "id": "8881a2d2-362d-4571-b0b8-d10b6ee28051",
   "metadata": {},
   "outputs": [],
   "source": [
    "import torch\n",
    "import torch.nn as nn\n",
    "import torch.optim as optim\n",
    "\n",
    "# Define a simple neural network for multi-class classification\n",
    "class SimpleNN(nn.Module):\n",
    "    def __init__(self, input_size, num_classes):\n",
    "        super(SimpleNN, self).__init__()\n",
    "        self.fc1 = nn.Linear(input_size, 128)  # First fully connected layer\n",
    "        self.fc2 = nn.Linear(128, 64)          # Second fully connected layer\n",
    "        self.fc3 = nn.Linear(64, num_classes)  # Output layer (3 classes)\n",
    "\n",
    "    def forward(self, x):\n",
    "        x = torch.relu(self.fc1(x))  # ReLU activation after the first layer\n",
    "        x = torch.relu(self.fc2(x))  # ReLU activation after the second layer\n",
    "        x = self.fc3(x)              # Output layer (no activation needed for multi-class classification)\n",
    "        return x\n",
    "# Initialize the neural network\n",
    "model = SimpleNN(input_size=input_size, num_classes=3)  # 150 input features, 3 classes\n",
    "\n",
    "# Loss function (CrossEntropyLoss is used for multi-class classification)\n",
    "criterion = nn.CrossEntropyLoss()\n",
    "\n",
    "# Optimizer (Stochastic Gradient Descent)\n",
    "optimizer = optim.SGD(model.parameters(), lr=0.001)"
   ]
  },
  {
   "cell_type": "code",
   "execution_count": 8,
   "id": "5b842422-441d-4041-adb1-7b3be033ed54",
   "metadata": {},
   "outputs": [
    {
     "name": "stdout",
     "output_type": "stream",
     "text": [
      "EnhancedNN(\n",
      "  (embedding): Embedding(5460, 128)\n",
      "  (fc1): Linear(in_features=19200, out_features=512, bias=True)\n",
      "  (relu1): ReLU()\n",
      "  (fc2): Linear(in_features=512, out_features=512, bias=True)\n",
      "  (relu2): ReLU()\n",
      "  (fc3): Linear(in_features=512, out_features=3, bias=True)\n",
      ")\n"
     ]
    }
   ],
   "source": [
    "import torch\n",
    "import torch.nn as nn\n",
    "import torch.optim as optim\n",
    "\n",
    "class EnhancedNN(nn.Module):\n",
    "    def __init__(self, input_dim, embedding_dim, hidden_dim, num_classes, vocab_size):\n",
    "        super(EnhancedNN, self).__init__()\n",
    "\n",
    "        # Embedding Layer (if input is categorical)\n",
    "        self.embedding = nn.Embedding(vocab_size, embedding_dim)\n",
    "\n",
    "        # First hidden layer (after embedding)\n",
    "        self.fc1 = nn.Linear(input_dim * embedding_dim, hidden_dim)  # input_dim * embedding_dim because of the embedding layer\n",
    "        self.relu1 = nn.ReLU()\n",
    "\n",
    "        # Second hidden layer\n",
    "        self.fc2 = nn.Linear(hidden_dim, hidden_dim)\n",
    "        self.relu2 = nn.ReLU()\n",
    "\n",
    "        # Output layer\n",
    "        self.fc3 = nn.Linear(hidden_dim, num_classes)\n",
    "        \n",
    "    def forward(self, x):\n",
    "        # Apply embedding layer (assuming x contains integer indices for categories)\n",
    "        x = self.embedding(x)  # Shape: [batch_size, seq_len, embedding_dim]\n",
    "\n",
    "        # Flatten the output from the embedding layer to feed into fully connected layers\n",
    "        x = x.view(x.size(0), -1)  # Flattening the tensor\n",
    "        \n",
    "        # First hidden layer\n",
    "        x = self.relu1(self.fc1(x))\n",
    "        \n",
    "        # Second hidden layer\n",
    "        x = self.relu2(self.fc2(x))\n",
    "\n",
    "        # Output layer (no activation function, raw logits for multi-class classification)\n",
    "        x = self.fc3(x)\n",
    "        return x\n",
    "\n",
    "# Hyperparameters\n",
    "vocab_size = 5460      # Size of vocabulary for the embedding layer\n",
    "embedding_dim = 128     # Dimension of embedding vectors\n",
    "hidden_dim = 512        # Number of units in hidden layers\n",
    "num_classes = 3         # Number of classes (for multi-class classification)\n",
    "input_dim = 150         # The length of your input (assuming each input is of length 150)\n",
    "\n",
    "# Create the model\n",
    "model = EnhancedNN(input_dim, embedding_dim, hidden_dim, num_classes, vocab_size)\n",
    "\n",
    "# Print the model architecture\n",
    "print(model)\n",
    "\n",
    "# Loss function and optimizer\n",
    "criterion = nn.CrossEntropyLoss()  # For multi-class classification\n",
    "optimizer = optim.Adam(model.parameters(), lr=0.001)\n"
   ]
  },
  {
   "cell_type": "code",
   "execution_count": 9,
   "id": "dd0d01b8-d618-4856-96d6-abcfba169150",
   "metadata": {},
   "outputs": [
    {
     "name": "stdout",
     "output_type": "stream",
     "text": [
      "Using cuda\n",
      "Epoch 1/10, Loss: 0.4147, Accuracy: 83.99%\n",
      "Epoch 2/10, Loss: 0.3468, Accuracy: 87.64%\n",
      "Epoch 3/10, Loss: 0.3339, Accuracy: 88.12%\n",
      "Epoch 4/10, Loss: 0.3256, Accuracy: 88.39%\n",
      "Epoch 5/10, Loss: 0.3189, Accuracy: 88.61%\n",
      "Epoch 6/10, Loss: 0.3126, Accuracy: 88.82%\n",
      "Epoch 7/10, Loss: 0.3071, Accuracy: 88.99%\n",
      "Epoch 8/10, Loss: 0.3017, Accuracy: 89.18%\n",
      "Epoch 9/10, Loss: 0.2962, Accuracy: 89.39%\n",
      "Epoch 10/10, Loss: 0.2916, Accuracy: 89.55%\n",
      "Test Accuracy: 87.66%\n"
     ]
    }
   ],
   "source": [
    "# Check if GPU is available and set the device accordingly\n",
    "device = torch.device(\"cuda\" if torch.cuda.is_available() else \"cpu\")\n",
    "print(f\"Using {device}\")\n",
    "# Move the model to the GPU\n",
    "model.to(device)\n",
    "\n",
    "# Number of epochs\n",
    "num_epochs = 10\n",
    "\n",
    "# Training loop\n",
    "for epoch in range(num_epochs):\n",
    "    model.train()\n",
    "    running_loss = 0.0\n",
    "    correct = 0\n",
    "    total = 0\n",
    "\n",
    "    for inputs, labels in train_loader:\n",
    "        # Move inputs and labels to the GPU\n",
    "        inputs, labels = inputs.to(device).long(), labels.to(device).long()\n",
    "\n",
    "        optimizer.zero_grad()\n",
    "        outputs = model(inputs)\n",
    "        loss = criterion(outputs, labels)\n",
    "        loss.backward()\n",
    "        optimizer.step()\n",
    "\n",
    "        running_loss += loss.item()\n",
    "        _, predicted = torch.max(outputs, 1)\n",
    "        correct += (predicted == labels).sum().item()\n",
    "        total += labels.size(0)\n",
    "\n",
    "    epoch_loss = running_loss / len(train_loader)\n",
    "    epoch_accuracy = 100 * correct / total\n",
    "    print(f\"Epoch {epoch+1}/{num_epochs}, Loss: {epoch_loss:.4f}, Accuracy: {epoch_accuracy:.2f}%\")\n",
    "\n",
    "# Testing loop\n",
    "model.eval()\n",
    "correct = 0\n",
    "total = 0\n",
    "\n",
    "with torch.no_grad():\n",
    "    for inputs, labels in test_loader:\n",
    "        # Move inputs and labels to the GPU\n",
    "        inputs, labels = inputs.to(device).long(), labels.to(device).long()\n",
    "\n",
    "        outputs = model(inputs)\n",
    "        _, predicted = torch.max(outputs, 1)\n",
    "        correct += (predicted == labels).sum().item()\n",
    "        total += labels.size(0)\n",
    "\n",
    "accuracy = 100 * correct / total\n",
    "print(f\"Test Accuracy: {accuracy:.2f}%\")\n"
   ]
  },
  {
   "cell_type": "code",
   "execution_count": 10,
   "id": "348b7110-9749-4b87-afd4-91ffd3a82310",
   "metadata": {},
   "outputs": [],
   "source": [
    "torch.save(model.state_dict(), \"model_enhanced_v1.pth\")"
   ]
  },
  {
   "cell_type": "code",
   "execution_count": 9,
   "id": "64811eac-413a-4407-9478-d9bf3b540a8b",
   "metadata": {},
   "outputs": [
    {
     "name": "stdout",
     "output_type": "stream",
     "text": [
      "Using cuda\n",
      "Epoch 1: New best model saved with validation loss 0.3743\n",
      "Epoch 1/10, Train Loss: 0.4603, Train Accuracy: 0.8236, Val Loss: 0.3743, Val Accuracy: 0.8791\n",
      "Epoch 2/10, Train Loss: 0.3722, Train Accuracy: 0.8784, Val Loss: 0.3766, Val Accuracy: 0.8758\n",
      "Epoch 3: New best model saved with validation loss 0.3647\n",
      "Epoch 3/10, Train Loss: 0.3590, Train Accuracy: 0.8836, Val Loss: 0.3647, Val Accuracy: 0.8828\n",
      "Epoch 4/10, Train Loss: 0.3530, Train Accuracy: 0.8858, Val Loss: 0.3658, Val Accuracy: 0.8825\n",
      "Epoch 5: New best model saved with validation loss 0.3607\n",
      "Epoch 5/10, Train Loss: 0.3478, Train Accuracy: 0.8877, Val Loss: 0.3607, Val Accuracy: 0.8835\n",
      "Epoch 6: New best model saved with validation loss 0.3581\n",
      "Epoch 6/10, Train Loss: 0.3423, Train Accuracy: 0.8893, Val Loss: 0.3581, Val Accuracy: 0.8824\n",
      "Epoch 7/10, Train Loss: 0.3401, Train Accuracy: 0.8906, Val Loss: 0.3585, Val Accuracy: 0.8829\n",
      "Epoch 8/10, Train Loss: 0.3357, Train Accuracy: 0.8918, Val Loss: 0.3633, Val Accuracy: 0.8827\n",
      "Epoch 9: New best model saved with validation loss 0.3556\n",
      "Epoch 9/10, Train Loss: 0.3321, Train Accuracy: 0.8928, Val Loss: 0.3556, Val Accuracy: 0.8842\n",
      "Epoch 10/10, Train Loss: 0.3405, Train Accuracy: 0.8931, Val Loss: 0.3913, Val Accuracy: 0.8825\n"
     ]
    }
   ],
   "source": [
    "from sklearn.metrics import accuracy_score\n",
    "\n",
    "# Check if GPU is available and set the device accordingly\n",
    "device = torch.device(\"cuda\" if torch.cuda.is_available() else \"cpu\")\n",
    "print(f\"Using {device}\")\n",
    "# Move the model to the GPU\n",
    "model.to(device)\n",
    "\n",
    "# Number of epochs\n",
    "num_epochs = 10\n",
    "\n",
    "# Initialize lists to store metrics\n",
    "train_losses = []\n",
    "val_losses = []\n",
    "train_accuracies = []\n",
    "val_accuracies = []\n",
    "\n",
    "best_val_loss = float('inf')  # Initialize with infinity\n",
    "checkpoint_path = \"best_model.pth\"  # Path to save the best model\n",
    "\n",
    "for epoch in range(num_epochs):\n",
    "    model.train()\n",
    "    running_loss = 0.0\n",
    "    all_train_preds = []\n",
    "    all_train_labels = []\n",
    "\n",
    "    # Training loop\n",
    "    for inputs, labels in train_loader:\n",
    "        inputs, labels = inputs.to(device).long(), labels.to(device).long()\n",
    "\n",
    "        optimizer.zero_grad()\n",
    "        outputs = model(inputs)\n",
    "        loss = criterion(outputs, labels)\n",
    "        loss.backward()\n",
    "        optimizer.step()\n",
    "\n",
    "        running_loss += loss.item()\n",
    "\n",
    "        # Collect predictions for accuracy\n",
    "        _, preds = torch.max(outputs, 1)\n",
    "        all_train_preds.extend(preds.cpu().numpy())\n",
    "        all_train_labels.extend(labels.cpu().numpy())\n",
    "\n",
    "    avg_train_loss = running_loss / len(train_loader)\n",
    "    train_accuracy = accuracy_score(all_train_labels, all_train_preds)\n",
    "\n",
    "    train_losses.append(avg_train_loss)\n",
    "    train_accuracies.append(train_accuracy)\n",
    "\n",
    "    # Validation loop\n",
    "    model.eval()\n",
    "    val_loss = 0.0\n",
    "    all_val_preds = []\n",
    "    all_val_labels = []\n",
    "\n",
    "    with torch.no_grad():\n",
    "        for inputs, labels in val_loader:\n",
    "            inputs, labels = inputs.to(device).long(), labels.to(device).long()\n",
    "            outputs = model(inputs)\n",
    "            loss = criterion(outputs, labels)\n",
    "            val_loss += loss.item()\n",
    "\n",
    "            _, preds = torch.max(outputs, 1)\n",
    "            all_val_preds.extend(preds.cpu().numpy())\n",
    "            all_val_labels.extend(labels.cpu().numpy())\n",
    "\n",
    "    avg_val_loss = val_loss / len(val_loader)\n",
    "    val_accuracy = accuracy_score(all_val_labels, all_val_preds)\n",
    "\n",
    "    val_losses.append(avg_val_loss)\n",
    "    val_accuracies.append(val_accuracy)\n",
    "    \n",
    "    # Save the model if validation loss is lower\n",
    "    if avg_val_loss < best_val_loss:\n",
    "        best_val_loss = avg_val_loss\n",
    "        torch.save(model.state_dict(), checkpoint_path)\n",
    "        print(f\"Epoch {epoch+1}: New best model saved with validation loss {avg_val_loss:.4f}\")\n",
    "\n",
    "\n",
    "    # Print epoch results\n",
    "    print(f\"Epoch {epoch+1}/{num_epochs}, \"\n",
    "          f\"Train Loss: {avg_train_loss:.4f}, Train Accuracy: {train_accuracy:.4f}, \"\n",
    "          f\"Val Loss: {avg_val_loss:.4f}, Val Accuracy: {val_accuracy:.4f}\")\n"
   ]
  },
  {
   "cell_type": "code",
   "execution_count": 10,
   "id": "b821c171-59c6-486c-b366-37ff0c7e6293",
   "metadata": {},
   "outputs": [
    {
     "name": "stdout",
     "output_type": "stream",
     "text": [
      "Test Accuracy: 88.28%\n"
     ]
    }
   ],
   "source": [
    "# Testing loop\n",
    "model.eval()\n",
    "correct = 0\n",
    "total = 0\n",
    "\n",
    "with torch.no_grad():\n",
    "    for inputs, labels in test_loader:\n",
    "        # Move inputs and labels to the GPU\n",
    "        inputs, labels = inputs.to(device).long(), labels.to(device).long()\n",
    "\n",
    "        outputs = model(inputs)\n",
    "        _, predicted = torch.max(outputs, 1)\n",
    "        correct += (predicted == labels).sum().item()\n",
    "        total += labels.size(0)\n",
    "\n",
    "accuracy = 100 * correct / total\n",
    "print(f\"Test Accuracy: {accuracy:.2f}%\")"
   ]
  },
  {
   "cell_type": "code",
   "execution_count": 11,
   "id": "60a9a451-c0b0-465b-a1f1-e337befb0749",
   "metadata": {},
   "outputs": [
    {
     "data": {
      "image/png": "[encoded data removed]",
      "text/plain": [
       "<Figure size 1200x500 with 2 Axes>"
      ]
     },
     "metadata": {},
     "output_type": "display_data"
    }
   ],
   "source": [
    "import matplotlib.pyplot as plt\n",
    "\n",
    "# Plot losses\n",
    "plt.figure(figsize=(12, 5))\n",
    "\n",
    "plt.subplot(1, 2, 1)\n",
    "plt.plot(range(1, num_epochs + 1), train_losses, label='Train Loss')\n",
    "plt.plot(range(1, num_epochs + 1), val_losses, label='Validation Loss')\n",
    "plt.xlabel('Epochs')\n",
    "plt.ylabel('Loss')\n",
    "plt.title('Loss vs. Epochs')\n",
    "plt.legend()\n",
    "\n",
    "# Plot accuracies\n",
    "plt.subplot(1, 2, 2)\n",
    "plt.plot(range(1, num_epochs + 1), train_accuracies, label='Train Accuracy')\n",
    "plt.plot(range(1, num_epochs + 1), val_accuracies, label='Validation Accuracy')\n",
    "plt.xlabel('Epochs')\n",
    "plt.ylabel('Accuracy')\n",
    "plt.title('Accuracy vs. Epochs')\n",
    "plt.legend()\n",
    "\n",
    "plt.tight_layout()\n",
    "plt.show()\n"
   ]
  },
  {
   "cell_type": "code",
   "execution_count": null,
   "id": "9d700013-1b71-4834-9951-f8bef92e32f8",
   "metadata": {},
   "outputs": [],
   "source": []
  }
 ],
 "metadata": {
  "kernelspec": {
   "display_name": "cuda",
   "language": "python",
   "name": "cuda"
  },
  "language_info": {
   "codemirror_mode": {
    "name": "ipython",
    "version": 3
   },
   "file_extension": ".py",
   "mimetype": "text/x-python",
   "name": "python",
   "nbconvert_exporter": "python",
   "pygments_lexer": "ipython3",
   "version": "3.10.9"
  }
 },
 "nbformat": 4,
 "nbformat_minor": 5
}
