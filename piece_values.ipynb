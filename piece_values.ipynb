{
 "cells": [
  {
   "cell_type": "code",
   "execution_count": 112,
   "id": "3e5d0213-d8a6-40a8-b7bf-8af91e4291e6",
   "metadata": {},
   "outputs": [
    {
     "data": {
      "text/plain": [
       "'\\nidea:\\n    simulate and get board position after 10 moves (approx end of opening sequence)\\n    - train model to predict whether white or black will win\\n    simulate and get board position after 30? moves (material will be less equal at this point)\\n    - use logistic regression to approximate the relative value/strength of pieces (WE CAN COMPARE THIS BY ELO RANGES!!!)\\n\\nwould like to do a test, how well does the model do based on\\n    - arbitrary encoding of the pieces\\n    - logistic regression value\\n    - alpha zero value\\n    \\nboard encoding:\\n    length 64 vector representing board\\n    - black, + white, 0 nothing\\n\\n    arbitrary:\\n        1 pawn\\n        2 knight\\n        3 bishop\\n        4 rook\\n        5 queen\\n        6 king\\n    \\n    based on alphazero:\\n        1 pawn\\n        3.05 knight\\n        3.33 bishop\\n        5.63 rook\\n        9.5 queen\\n        infinity? king\\n'"
      ]
     },
     "execution_count": 112,
     "metadata": {},
     "output_type": "execute_result"
    }
   ],
   "source": [
    "\"\"\"\n",
    "idea:\n",
    "    simulate and get board position after 10 moves (approx end of opening sequence)\n",
    "    - train model to predict whether white or black will win\n",
    "    simulate and get board position after 30? moves (material will be less equal at this point)\n",
    "    - use logistic regression to approximate the relative value/strength of pieces (WE CAN COMPARE THIS BY ELO RANGES!!!)\n",
    "\n",
    "would like to do a test, how well does the model do based on\n",
    "    - arbitrary encoding of the pieces\n",
    "    - logistic regression value\n",
    "    - alpha zero value\n",
    "    \n",
    "board encoding:\n",
    "    length 64 vector representing board\n",
    "    - black, + white, 0 nothing\n",
    "\n",
    "    arbitrary:\n",
    "        1 pawn\n",
    "        2 knight\n",
    "        3 bishop\n",
    "        4 rook\n",
    "        5 queen\n",
    "        6 king\n",
    "    \n",
    "    based on alphazero:\n",
    "        1 pawn\n",
    "        3.05 knight\n",
    "        3.33 bishop\n",
    "        5.63 rook\n",
    "        9.5 queen\n",
    "        infinity? king\n",
    "\"\"\""
   ]
  },
  {
   "cell_type": "code",
   "execution_count": 1,
   "id": "13ac0659-318c-45d9-8d9e-21aed751ecdb",
   "metadata": {},
   "outputs": [],
   "source": [
    "import pandas as pd\n",
    "\n",
    "df = pd.read_csv(\"chess_games.csv.zip\", usecols=[\"Result\", \"AN\", \"WhiteElo\", \"BlackElo\"], compression=\"zip\")"
   ]
  },
  {
   "cell_type": "code",
   "execution_count": 39,
   "id": "42246cc8-dc83-46eb-8831-ba329bade405",
   "metadata": {},
   "outputs": [
    {
     "data": {
      "text/plain": [
       "Result      18775\n",
       "WhiteElo    18775\n",
       "BlackElo    18775\n",
       "AN          18775\n",
       "dtype: int64"
      ]
     },
     "execution_count": 39,
     "metadata": {},
     "output_type": "execute_result"
    }
   ],
   "source": [
    "df[df[\"WhiteElo\"] >= 2500].count()"
   ]
  },
  {
   "cell_type": "code",
   "execution_count": 112,
   "id": "306cc754-76ff-475e-a8b5-fe928ac8baa7",
   "metadata": {},
   "outputs": [],
   "source": [
    "games = df[(df[\"WhiteElo\"] >= 2200) & (df[\"BlackElo\"] >= 2200) & (df['Result'] != '1/2-1/2') & ('%eval' not in df['AN'])]\n",
    "white_win = games[games['Result'] == '1-0'].sample(10000)\n",
    "black_win = games[games['Result'] == '0-1'].sample(10000)\n",
    "sample = pd.concat([white_win, black_win])"
   ]
  },
  {
   "cell_type": "code",
   "execution_count": 119,
   "id": "de4ddba2-8281-41f8-93b3-71891015644d",
   "metadata": {},
   "outputs": [],
   "source": [
    "games = df[(df['Result'] != '1/2-1/2') & ('%eval' not in df['AN'])]\n",
    "white_win = games[games['Result'] == '1-0'].sample(10000)\n",
    "black_win = games[games['Result'] == '0-1'].sample(10000)\n",
    "sample = pd.concat([white_win, black_win])"
   ]
  },
  {
   "cell_type": "code",
   "execution_count": 120,
   "id": "9ac05301-0d5a-45cf-96dc-c474b5eda67e",
   "metadata": {},
   "outputs": [
    {
     "data": {
      "text/html": [
       "<div>\n",
       "<style scoped>\n",
       "    .dataframe tbody tr th:only-of-type {\n",
       "        vertical-align: middle;\n",
       "    }\n",
       "\n",
       "    .dataframe tbody tr th {\n",
       "        vertical-align: top;\n",
       "    }\n",
       "\n",
       "    .dataframe thead th {\n",
       "        text-align: right;\n",
       "    }\n",
       "</style>\n",
       "<table border=\"1\" class=\"dataframe\">\n",
       "  <thead>\n",
       "    <tr style=\"text-align: right;\">\n",
       "      <th></th>\n",
       "      <th>Result</th>\n",
       "      <th>WhiteElo</th>\n",
       "      <th>BlackElo</th>\n",
       "      <th>AN</th>\n",
       "    </tr>\n",
       "  </thead>\n",
       "  <tbody>\n",
       "    <tr>\n",
       "      <th>1762118</th>\n",
       "      <td>1-0</td>\n",
       "      <td>2000</td>\n",
       "      <td>1734</td>\n",
       "      <td>1. e4 c6 2. d4 d5 3. e5 Bf5 4. Nf3 e6 5. c3 Ne...</td>\n",
       "    </tr>\n",
       "    <tr>\n",
       "      <th>900849</th>\n",
       "      <td>1-0</td>\n",
       "      <td>1878</td>\n",
       "      <td>1550</td>\n",
       "      <td>1. e4 Nc6 2. d4 e5 3. d5 Nb4 4. a3 Na6 5. Nc3 ...</td>\n",
       "    </tr>\n",
       "    <tr>\n",
       "      <th>4093516</th>\n",
       "      <td>1-0</td>\n",
       "      <td>1592</td>\n",
       "      <td>1810</td>\n",
       "      <td>1. g3 d5 2. Bg2 c5 3. d3 Nc6 4. Nf3 e5 5. O-O ...</td>\n",
       "    </tr>\n",
       "    <tr>\n",
       "      <th>3510156</th>\n",
       "      <td>1-0</td>\n",
       "      <td>1864</td>\n",
       "      <td>2163</td>\n",
       "      <td>1. e4 e6 2. d4 d5 3. e5 c5 4. Nf3 Nc6 5. a3 Qb...</td>\n",
       "    </tr>\n",
       "    <tr>\n",
       "      <th>565464</th>\n",
       "      <td>1-0</td>\n",
       "      <td>1824</td>\n",
       "      <td>1702</td>\n",
       "      <td>1. e4 e6 2. d4 d5 3. e5 c5 4. c3 Nc6 5. Nf3 Qb...</td>\n",
       "    </tr>\n",
       "  </tbody>\n",
       "</table>\n",
       "</div>"
      ],
      "text/plain": [
       "        Result  WhiteElo  BlackElo  \\\n",
       "1762118    1-0      2000      1734   \n",
       "900849     1-0      1878      1550   \n",
       "4093516    1-0      1592      1810   \n",
       "3510156    1-0      1864      2163   \n",
       "565464     1-0      1824      1702   \n",
       "\n",
       "                                                        AN  \n",
       "1762118  1. e4 c6 2. d4 d5 3. e5 Bf5 4. Nf3 e6 5. c3 Ne...  \n",
       "900849   1. e4 Nc6 2. d4 e5 3. d5 Nb4 4. a3 Na6 5. Nc3 ...  \n",
       "4093516  1. g3 d5 2. Bg2 c5 3. d3 Nc6 4. Nf3 e5 5. O-O ...  \n",
       "3510156  1. e4 e6 2. d4 d5 3. e5 c5 4. Nf3 Nc6 5. a3 Qb...  \n",
       "565464   1. e4 e6 2. d4 d5 3. e5 c5 4. c3 Nc6 5. Nf3 Qb...  "
      ]
     },
     "execution_count": 120,
     "metadata": {},
     "output_type": "execute_result"
    }
   ],
   "source": [
    "sample.head()"
   ]
  },
  {
   "cell_type": "code",
   "execution_count": 130,
   "id": "6a7eef64-4483-41c3-ad63-59ab2fce710a",
   "metadata": {},
   "outputs": [],
   "source": [
    "import chess.pgn\n",
    "import io\n",
    "from sklearn.model_selection import train_test_split\n",
    "from sklearn.linear_model import LogisticRegression\n",
    "from sklearn.metrics import accuracy_score\n",
    "import math\n",
    "\n",
    "# upper case for white, lower case for black\n",
    "\n",
    "def train_values(sample, num_moves = 30):\n",
    "    X = pd.DataFrame(columns= ['p', 'P', 'n', 'N', 'b', 'B', 'r', 'R', 'q', 'Q'])\n",
    "    Y = []\n",
    "    \n",
    "    for row in sample.itertuples():\n",
    "        \n",
    "        pgn = io.StringIO(row.AN.split(f'{num_moves + 1}.')[0])\n",
    "        game = chess.pgn.read_game(pgn)\n",
    "        board = game.board()\n",
    "        for move in game.mainline_moves():\n",
    "            board.push(move)\n",
    "        \n",
    "        state = board.__str__().split()\n",
    "        new_row = {'p': 0, 'P': 0, 'n': 0, 'N': 0, 'b': 0, 'B': 0, 'r': 0, 'R': 0, 'q': 0, 'Q': 0}\n",
    "        if row.Result == '1-0':\n",
    "            Y.append(1)\n",
    "        else:\n",
    "            Y.append(0)\n",
    "    \n",
    "        for square in state:\n",
    "            if square not in {'k', 'K', '.'}:\n",
    "                new_row[square] += 1\n",
    "    \n",
    "        X.loc[len(X)] = new_row\n",
    "\n",
    "    X_train, X_test, y_train, y_test = train_test_split(X, Y, test_size=0.2, random_state=42)\n",
    "    model = LogisticRegression()\n",
    "    model.fit(X_train, y_train)\n",
    "    \n",
    "    y_pred = model.predict(X_test)\n",
    "    accuracy = accuracy_score(y_test, y_pred)\n",
    "    print(\"Accuracy: {:.2f}%\".format(accuracy * 100))\n",
    "    \n",
    "    coefs = [math.e ** coef for coef in abs(model.coef_[0])]\n",
    "    values = []\n",
    "    for i in range(0, len(coefs), 2):\n",
    "        values.append((coefs[i] + coefs[i+1])/2)\n",
    "    values = [value / values[0] for value in values]\n",
    "    return {'Pawn': values[0], 'Knight': values[1], 'Bishop': values[2], 'Rook': values[3], 'Queen': values[4]}"
   ]
  },
  {
   "cell_type": "code",
   "execution_count": 131,
   "id": "49ecc2b3-3773-461f-83fd-5f11c413aa82",
   "metadata": {},
   "outputs": [
    {
     "name": "stdout",
     "output_type": "stream",
     "text": [
      "Accuracy: 77.83%\n"
     ]
    }
   ],
   "source": [
    "coefs = train_values(sample, 40)"
   ]
  },
  {
   "cell_type": "code",
   "execution_count": 132,
   "id": "27d4a5fe-6323-4d65-ac65-5de9d3aa836e",
   "metadata": {},
   "outputs": [
    {
     "name": "stdout",
     "output_type": "stream",
     "text": [
      "{'Pawn': 1.0, 'Knight': 1.6436299948586683, 'Bishop': 1.6887651789985794, 'Rook': 2.6595258511372615, 'Queen': 9.081474796965267}\n"
     ]
    }
   ],
   "source": [
    "print(coefs)"
   ]
  },
  {
   "cell_type": "code",
   "execution_count": 30,
   "id": "9ae5e525-8013-46e5-a21e-a2e736bda7d7",
   "metadata": {},
   "outputs": [],
   "source": [
    "initial_board = [\n",
    "    4,  2,  3,  5,  6,  3,  2,  4,\n",
    "    1,  1,  1,  1,  1,  1,  1,  1,\n",
    "    0,  0,  0,  0,  0,  0,  0,  0,\n",
    "    0,  0,  0,  0,  0,  0,  0,  0,\n",
    "    0,  0,  0,  0,  0,  0,  0,  0,\n",
    "    0,  0,  0,  0,  0,  0,  0,  0,\n",
    "   -1, -1, -1, -1, -1, -1, -1, -1,\n",
    "   -4, -2, -3, -5, -6, -3, -2, -4,\n",
    "]"
   ]
  },
  {
   "cell_type": "code",
   "execution_count": null,
   "id": "c8af2ef9-e3e6-48b0-99c8-7735815d6b06",
   "metadata": {},
   "outputs": [],
   "source": []
  }
 ],
 "metadata": {
  "kernelspec": {
   "display_name": "Python 3 (ipykernel)",
   "language": "python",
   "name": "python3"
  },
  "language_info": {
   "codemirror_mode": {
    "name": "ipython",
    "version": 3
   },
   "file_extension": ".py",
   "mimetype": "text/x-python",
   "name": "python",
   "nbconvert_exporter": "python",
   "pygments_lexer": "ipython3",
   "version": "3.12.2"
  }
 },
 "nbformat": 4,
 "nbformat_minor": 5
}
